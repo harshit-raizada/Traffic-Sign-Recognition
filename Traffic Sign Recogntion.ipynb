{
  "nbformat": 4,
  "nbformat_minor": 0,
  "metadata": {
    "colab": {
      "provenance": [],
      "gpuType": "T4"
    },
    "kernelspec": {
      "name": "python3",
      "display_name": "Python 3"
    },
    "language_info": {
      "name": "python"
    },
    "accelerator": "GPU"
  },
  "cells": [
    {
      "cell_type": "code",
      "source": [
        "!mkdir -p ~/.kaggle\n",
        "!cp kaggle.json ~/.kaggle/"
      ],
      "metadata": {
        "id": "-Ex7NX-I2dBD"
      },
      "execution_count": 1,
      "outputs": []
    },
    {
      "cell_type": "code",
      "source": [
        "!kaggle datasets download -d meowmeowmeowmeowmeow/gtsrb-german-traffic-sign"
      ],
      "metadata": {
        "colab": {
          "base_uri": "https://localhost:8080/"
        },
        "id": "hDQP9uub2jFF",
        "outputId": "b7322118-0676-46de-9dcf-c13bebfcdbe0"
      },
      "execution_count": 2,
      "outputs": [
        {
          "output_type": "stream",
          "name": "stdout",
          "text": [
            "Warning: Your Kaggle API key is readable by other users on this system! To fix this, you can run 'chmod 600 /root/.kaggle/kaggle.json'\n",
            "Downloading gtsrb-german-traffic-sign.zip to /content\n",
            "100% 610M/612M [00:04<00:00, 181MB/s]\n",
            "100% 612M/612M [00:04<00:00, 137MB/s]\n"
          ]
        }
      ]
    },
    {
      "cell_type": "code",
      "source": [
        "import zipfile\n",
        "zip_ref = zipfile.ZipFile('/content/gtsrb-german-traffic-sign.zip', 'r')\n",
        "zip_ref.extractall('/content')\n",
        "zip_ref.close()"
      ],
      "metadata": {
        "id": "fzRPWW2L2jM_"
      },
      "execution_count": 3,
      "outputs": []
    },
    {
      "cell_type": "code",
      "source": [
        "import numpy as np\n",
        "import pandas as pd\n",
        "import matplotlib.pyplot as plt\n",
        "import cv2\n",
        "import tensorflow as tf\n",
        "from PIL import Image\n",
        "import os\n",
        "from sklearn.model_selection import train_test_split\n",
        "from keras.utils import to_categorical\n",
        "from keras.models import Sequential, load_model\n",
        "from keras.layers import Conv2D, MaxPool2D, Dense, Flatten, Dropout"
      ],
      "metadata": {
        "id": "cVa02VbU2pUt"
      },
      "execution_count": 5,
      "outputs": []
    },
    {
      "cell_type": "code",
      "source": [
        "data = []\n",
        "labels = []\n",
        "classes = 43\n",
        "cur_path = os.getcwd()\n",
        "print(cur_path)"
      ],
      "metadata": {
        "colab": {
          "base_uri": "https://localhost:8080/"
        },
        "id": "VTgsX9yQyok2",
        "outputId": "a99957a7-4348-4382-cc6d-5b8fe7598ca6"
      },
      "execution_count": 6,
      "outputs": [
        {
          "output_type": "stream",
          "name": "stdout",
          "text": [
            "/content\n"
          ]
        }
      ]
    },
    {
      "cell_type": "code",
      "source": [
        "for i in range(classes):\n",
        "    path = os.path.join(cur_path,'train', str(i))\n",
        "    images = os.listdir(path)\n",
        "    for a in images:\n",
        "        try:\n",
        "            image = Image.open(path + '/'+ a)\n",
        "            image = image.resize((30, 30))\n",
        "            image = np.array(image)\n",
        "            data.append(image)\n",
        "            labels.append(i)\n",
        "        except Exception as e:\n",
        "            print(e)"
      ],
      "metadata": {
        "id": "4OqIX8xLyosh"
      },
      "execution_count": 9,
      "outputs": []
    },
    {
      "cell_type": "code",
      "source": [
        "data = np.array(data)\n",
        "labels = np.array(labels)"
      ],
      "metadata": {
        "id": "cwgwd8Ghyovg"
      },
      "execution_count": 10,
      "outputs": []
    },
    {
      "cell_type": "code",
      "source": [
        "np.save('./train/data', data)\n",
        "np.save('./train/target', labels)"
      ],
      "metadata": {
        "id": "V5IqpseOy9V_"
      },
      "execution_count": 12,
      "outputs": []
    },
    {
      "cell_type": "code",
      "source": [
        "data = np.load('./train/data.npy')\n",
        "labels = np.load('./train/target.npy')"
      ],
      "metadata": {
        "id": "OcRq0UW_y9ZX"
      },
      "execution_count": 13,
      "outputs": []
    },
    {
      "cell_type": "code",
      "source": [
        "print(data.shape, labels.shape)"
      ],
      "metadata": {
        "colab": {
          "base_uri": "https://localhost:8080/"
        },
        "id": "m9ci1rZ8y9cZ",
        "outputId": "ea68a478-58f8-45fd-ac34-d2fb7a858a21"
      },
      "execution_count": 14,
      "outputs": [
        {
          "output_type": "stream",
          "name": "stdout",
          "text": [
            "(78418, 30, 30, 3) (78418,)\n"
          ]
        }
      ]
    },
    {
      "cell_type": "code",
      "source": [
        "X_train, X_test, y_train, y_test = train_test_split(data, labels, test_size = 0.2, random_state = 0)"
      ],
      "metadata": {
        "id": "RXbHC8YpzOqm"
      },
      "execution_count": 15,
      "outputs": []
    },
    {
      "cell_type": "code",
      "source": [
        "print(X_train.shape, X_test.shape, y_train.shape, y_test.shape)"
      ],
      "metadata": {
        "colab": {
          "base_uri": "https://localhost:8080/"
        },
        "id": "G3RNBM_HzOxQ",
        "outputId": "5c00a2ae-9ba7-4059-d8e0-733def82c42c"
      },
      "execution_count": 16,
      "outputs": [
        {
          "output_type": "stream",
          "name": "stdout",
          "text": [
            "(62734, 30, 30, 3) (15684, 30, 30, 3) (62734,) (15684,)\n"
          ]
        }
      ]
    },
    {
      "cell_type": "code",
      "source": [
        "y_train = to_categorical(y_train, 43)\n",
        "y_test = to_categorical(y_test, 43)"
      ],
      "metadata": {
        "id": "VAGUdm05zO4Q"
      },
      "execution_count": 17,
      "outputs": []
    },
    {
      "cell_type": "code",
      "source": [
        "model = Sequential()\n",
        "\n",
        "model.add(Conv2D(filters = 32, kernel_size = (5, 5), activation = 'relu', input_shape = X_train.shape[1:]))\n",
        "model.add(Conv2D(filters = 32, kernel_size = (5, 5), activation = 'relu'))\n",
        "model.add(MaxPool2D(pool_size = (2, 2)))\n",
        "model.add(Dropout(rate = 0.25))\n",
        "\n",
        "model.add(Conv2D(filters = 64, kernel_size = (3, 3), activation = 'relu'))\n",
        "model.add(Conv2D(filters = 64, kernel_size = (3, 3), activation = 'relu'))\n",
        "model.add(MaxPool2D(pool_size = (2, 2)))\n",
        "model.add(Dropout(rate = 0.25))\n",
        "model.add(Flatten())\n",
        "\n",
        "model.add(Dense(256, activation = 'relu'))\n",
        "model.add(Dropout(rate = 0.5))\n",
        "\n",
        "model.add(Dense(43, activation = 'softmax'))"
      ],
      "metadata": {
        "id": "OpriTwK1zO9_"
      },
      "execution_count": 18,
      "outputs": []
    },
    {
      "cell_type": "code",
      "source": [
        "model.compile(loss = 'categorical_crossentropy', optimizer = 'adam', metrics = ['accuracy'])"
      ],
      "metadata": {
        "id": "xwe6t4l9zPBa"
      },
      "execution_count": 19,
      "outputs": []
    },
    {
      "cell_type": "code",
      "source": [
        "history = model.fit(X_train, y_train, batch_size = 32, epochs = 20, validation_data = (X_test, y_test))"
      ],
      "metadata": {
        "colab": {
          "base_uri": "https://localhost:8080/"
        },
        "id": "nrGzgBkfzPKt",
        "outputId": "f664f2cd-05e1-4453-de04-7b01944d062b"
      },
      "execution_count": 20,
      "outputs": [
        {
          "output_type": "stream",
          "name": "stdout",
          "text": [
            "Epoch 1/20\n",
            "1961/1961 [==============================] - 25s 7ms/step - loss: 1.4044 - accuracy: 0.6292 - val_loss: 0.2167 - val_accuracy: 0.9387\n",
            "Epoch 2/20\n",
            "1961/1961 [==============================] - 13s 7ms/step - loss: 0.3832 - accuracy: 0.8890 - val_loss: 0.0993 - val_accuracy: 0.9775\n",
            "Epoch 3/20\n",
            "1961/1961 [==============================] - 13s 7ms/step - loss: 0.2566 - accuracy: 0.9281 - val_loss: 0.0508 - val_accuracy: 0.9853\n",
            "Epoch 4/20\n",
            "1961/1961 [==============================] - 13s 7ms/step - loss: 0.2172 - accuracy: 0.9397 - val_loss: 0.0398 - val_accuracy: 0.9892\n",
            "Epoch 5/20\n",
            "1961/1961 [==============================] - 14s 7ms/step - loss: 0.2108 - accuracy: 0.9413 - val_loss: 0.0627 - val_accuracy: 0.9828\n",
            "Epoch 6/20\n",
            "1961/1961 [==============================] - 13s 7ms/step - loss: 0.2018 - accuracy: 0.9461 - val_loss: 0.0484 - val_accuracy: 0.9859\n",
            "Epoch 7/20\n",
            "1961/1961 [==============================] - 14s 7ms/step - loss: 0.1959 - accuracy: 0.9482 - val_loss: 0.0561 - val_accuracy: 0.9828\n",
            "Epoch 8/20\n",
            "1961/1961 [==============================] - 14s 7ms/step - loss: 0.1904 - accuracy: 0.9507 - val_loss: 0.0312 - val_accuracy: 0.9915\n",
            "Epoch 9/20\n",
            "1961/1961 [==============================] - 14s 7ms/step - loss: 0.1980 - accuracy: 0.9495 - val_loss: 0.0258 - val_accuracy: 0.9917\n",
            "Epoch 10/20\n",
            "1961/1961 [==============================] - 14s 7ms/step - loss: 0.1902 - accuracy: 0.9537 - val_loss: 0.0295 - val_accuracy: 0.9916\n",
            "Epoch 11/20\n",
            "1961/1961 [==============================] - 12s 6ms/step - loss: 0.1969 - accuracy: 0.9504 - val_loss: 0.0489 - val_accuracy: 0.9856\n",
            "Epoch 12/20\n",
            "1961/1961 [==============================] - 13s 6ms/step - loss: 0.2201 - accuracy: 0.9471 - val_loss: 0.0335 - val_accuracy: 0.9906\n",
            "Epoch 13/20\n",
            "1961/1961 [==============================] - 13s 6ms/step - loss: 0.2086 - accuracy: 0.9490 - val_loss: 0.0425 - val_accuracy: 0.9894\n",
            "Epoch 14/20\n",
            "1961/1961 [==============================] - 13s 7ms/step - loss: 0.2246 - accuracy: 0.9467 - val_loss: 0.0335 - val_accuracy: 0.9908\n",
            "Epoch 15/20\n",
            "1961/1961 [==============================] - 13s 7ms/step - loss: 0.2073 - accuracy: 0.9522 - val_loss: 0.0296 - val_accuracy: 0.9917\n",
            "Epoch 16/20\n",
            "1961/1961 [==============================] - 13s 7ms/step - loss: 0.2117 - accuracy: 0.9522 - val_loss: 0.0396 - val_accuracy: 0.9898\n",
            "Epoch 17/20\n",
            "1961/1961 [==============================] - 13s 7ms/step - loss: 0.2164 - accuracy: 0.9489 - val_loss: 0.0307 - val_accuracy: 0.9904\n",
            "Epoch 18/20\n",
            "1961/1961 [==============================] - 15s 7ms/step - loss: 0.1983 - accuracy: 0.9537 - val_loss: 0.0256 - val_accuracy: 0.9938\n",
            "Epoch 19/20\n",
            "1961/1961 [==============================] - 13s 7ms/step - loss: 0.2280 - accuracy: 0.9475 - val_loss: 0.0554 - val_accuracy: 0.9852\n",
            "Epoch 20/20\n",
            "1961/1961 [==============================] - 13s 6ms/step - loss: 0.2138 - accuracy: 0.9510 - val_loss: 0.0296 - val_accuracy: 0.9919\n"
          ]
        }
      ]
    },
    {
      "cell_type": "code",
      "source": [
        "plt.plot(history.history['accuracy'], label = 'training accuracy', color = 'red')\n",
        "plt.plot(history.history['val_accuracy'], label = 'validation accuracy', color = 'blue')\n",
        "\n",
        "plt.legend()\n",
        "plt.show()"
      ],
      "metadata": {
        "colab": {
          "base_uri": "https://localhost:8080/",
          "height": 430
        },
        "id": "PB1xNGSZ0BtY",
        "outputId": "433e1d78-3347-4073-817b-e918d39459c3"
      },
      "execution_count": 21,
      "outputs": [
        {
          "output_type": "display_data",
          "data": {
            "text/plain": [
              "<Figure size 640x480 with 1 Axes>"
            ],
            "image/png": "[encoded data removed]"
          },
          "metadata": {}
        }
      ]
    },
    {
      "cell_type": "code",
      "source": [
        "plt.plot(history.history['loss'], label = 'training loss', color = 'red')\n",
        "plt.plot(history.history['val_loss'], label = 'validation loss', color = 'blue')\n",
        "\n",
        "plt.legend()\n",
        "plt.show()"
      ],
      "metadata": {
        "colab": {
          "base_uri": "https://localhost:8080/",
          "height": 430
        },
        "id": "g_SolGow0NM6",
        "outputId": "f45692e6-48ee-48de-816c-e5edd1b4729a"
      },
      "execution_count": 22,
      "outputs": [
        {
          "output_type": "display_data",
          "data": {
            "text/plain": [
              "<Figure size 640x480 with 1 Axes>"
            ],
            "image/png": "[encoded data removed]"
          },
          "metadata": {}
        }
      ]
    },
    {
      "cell_type": "code",
      "source": [
        "def testing(testcsv):\n",
        "    y_test = pd.read_csv(testcsv)\n",
        "    label = y_test[\"ClassId\"].values\n",
        "    imgs = y_test[\"Path\"].values\n",
        "    data=[]\n",
        "    for img in imgs:\n",
        "        image = Image.open(img)\n",
        "        image = image.resize((30,30))\n",
        "        data.append(np.array(image))\n",
        "    X_test = np.array(data)\n",
        "    return X_test, label"
      ],
      "metadata": {
        "id": "NCtoR-eB0NUE"
      },
      "execution_count": 23,
      "outputs": []
    },
    {
      "cell_type": "code",
      "source": [
        "X_test, label = testing('Test.csv')"
      ],
      "metadata": {
        "id": "HwC5msCi0NaM"
      },
      "execution_count": 24,
      "outputs": []
    },
    {
      "cell_type": "code",
      "source": [
        "y_pred = model.predict(X_test)\n",
        "y_pred"
      ],
      "metadata": {
        "colab": {
          "base_uri": "https://localhost:8080/"
        },
        "id": "Z9a3AkQ80kUz",
        "outputId": "932b8a78-8b88-485b-9989-670d9e962041"
      },
      "execution_count": 26,
      "outputs": [
        {
          "output_type": "stream",
          "name": "stdout",
          "text": [
            "395/395 [==============================] - 2s 5ms/step\n"
          ]
        },
        {
          "output_type": "execute_result",
          "data": {
            "text/plain": [
              "array([[0.0000000e+00, 0.0000000e+00, 0.0000000e+00, ..., 0.0000000e+00,\n",
              "        0.0000000e+00, 0.0000000e+00],\n",
              "       [1.2293095e-35, 1.0000000e+00, 4.8343095e-35, ..., 0.0000000e+00,\n",
              "        0.0000000e+00, 0.0000000e+00],\n",
              "       [0.0000000e+00, 0.0000000e+00, 0.0000000e+00, ..., 0.0000000e+00,\n",
              "        0.0000000e+00, 0.0000000e+00],\n",
              "       ...,\n",
              "       [1.3699675e-02, 9.1231531e-01, 3.1636231e-02, ..., 3.0543839e-07,\n",
              "        1.3105728e-08, 5.3396912e-11],\n",
              "       [7.6275392e-27, 2.7310425e-11, 1.0592647e-13, ..., 2.9410606e-19,\n",
              "        0.0000000e+00, 1.3373811e-22],\n",
              "       [0.0000000e+00, 2.1835532e-28, 3.7375081e-25, ..., 3.9269567e-26,\n",
              "        0.0000000e+00, 3.6077834e-28]], dtype=float32)"
            ]
          },
          "metadata": {},
          "execution_count": 26
        }
      ]
    },
    {
      "cell_type": "code",
      "source": [
        "y_pred = np.argmax(model.predict(X_test), axis = 1)\n",
        "y_pred"
      ],
      "metadata": {
        "colab": {
          "base_uri": "https://localhost:8080/"
        },
        "id": "6Z_cbFy_6XK0",
        "outputId": "5f38afa6-ce58-4556-9518-3bc872fa027e"
      },
      "execution_count": 30,
      "outputs": [
        {
          "output_type": "stream",
          "name": "stdout",
          "text": [
            "395/395 [==============================] - 1s 3ms/step\n"
          ]
        },
        {
          "output_type": "execute_result",
          "data": {
            "text/plain": [
              "array([16,  1, 38, ...,  1,  7, 10])"
            ]
          },
          "metadata": {},
          "execution_count": 30
        }
      ]
    },
    {
      "cell_type": "code",
      "source": [
        "from sklearn.metrics import accuracy_score\n",
        "print(accuracy_score(label, y_pred))"
      ],
      "metadata": {
        "colab": {
          "base_uri": "https://localhost:8080/"
        },
        "id": "yK2jxwQZ0oOH",
        "outputId": "95137244-8667-4a94-abee-5a6eee157d67"
      },
      "execution_count": 31,
      "outputs": [
        {
          "output_type": "stream",
          "name": "stdout",
          "text": [
            "0.956769596199525\n"
          ]
        }
      ]
    },
    {
      "cell_type": "code",
      "source": [
        "model.save(\"final_model.h5\")"
      ],
      "metadata": {
        "colab": {
          "base_uri": "https://localhost:8080/"
        },
        "id": "P7vqGBGN0oTs",
        "outputId": "d1e16aaf-0cf3-4507-d9f7-0c227d6a0fb3"
      },
      "execution_count": 32,
      "outputs": [
        {
          "output_type": "stream",
          "name": "stderr",
          "text": [
            "/usr/local/lib/python3.10/dist-packages/keras/src/engine/training.py:3079: UserWarning: You are saving your model as an HDF5 file via `model.save()`. This file format is considered legacy. We recommend using instead the native Keras format, e.g. `model.save('my_model.keras')`.\n",
            "  saving_api.save_model(\n"
          ]
        }
      ]
    },
    {
      "cell_type": "code",
      "source": [
        "from keras.models import load_model\n",
        "model = load_model('final_model.h5')"
      ],
      "metadata": {
        "id": "0DekSD_A0oaG"
      },
      "execution_count": 33,
      "outputs": []
    },
    {
      "cell_type": "code",
      "source": [
        "classes = { 0:'Speed limit (20km/h)',\n",
        "            1:'Speed limit (30km/h)',\n",
        "            2:'Speed limit (50km/h)',\n",
        "            3:'Speed limit (60km/h)',\n",
        "            4:'Speed limit (70km/h)',\n",
        "            5:'Speed limit (80km/h)',\n",
        "            6:'End of speed limit (80km/h)',\n",
        "            7:'Speed limit (100km/h)',\n",
        "            8:'Speed limit (120km/h)',\n",
        "            9:'No passing',\n",
        "            10:'No passing veh over 3.5 tons',\n",
        "            11:'Right-of-way at intersection',\n",
        "            12:'Priority road',\n",
        "            13:'Yield',\n",
        "            14:'Stop',\n",
        "            15:'No vehicles',\n",
        "            16:'Veh > 3.5 tons prohibited',\n",
        "            17:'No entry',\n",
        "            18:'General caution',\n",
        "            19:'Dangerous curve left',\n",
        "            20:'Dangerous curve right',\n",
        "            21:'Double curve',\n",
        "            22:'Bumpy road',\n",
        "            23:'Slippery road',\n",
        "            24:'Road narrows on the right',\n",
        "            25:'Road work',\n",
        "            26:'Traffic signals',\n",
        "            27:'Pedestrians',\n",
        "            28:'Children crossing',\n",
        "            29:'Bicycles crossing',\n",
        "            30:'Beware of ice/snow',\n",
        "            31:'Wild animals crossing',\n",
        "            32:'End speed + passing limits',\n",
        "            33:'Turn right ahead',\n",
        "            34:'Turn left ahead',\n",
        "            35:'Ahead only',\n",
        "            36:'Go straight or right',\n",
        "            37:'Go straight or left',\n",
        "            38:'Keep right',\n",
        "            39:'Keep left',\n",
        "            40:'Roundabout mandatory',\n",
        "            41:'End of no passing',\n",
        "            42:'End no passing veh > 3.5 tons' }"
      ],
      "metadata": {
        "id": "ou_gEX731Fl4"
      },
      "execution_count": 34,
      "outputs": []
    },
    {
      "cell_type": "code",
      "source": [
        "def test_on_img(img):\n",
        "    data=[]\n",
        "    image = Image.open(img)\n",
        "    image = image.resize((30,30))\n",
        "    data.append(np.array(image))\n",
        "    X_test=np.array(data)\n",
        "    #y_pred = model.predict(X_test)\n",
        "    y_pred = np.argmax(model.predict(X_test), axis = 1)\n",
        "    return image, y_pred"
      ],
      "metadata": {
        "id": "z762eISb1KMR"
      },
      "execution_count": 40,
      "outputs": []
    },
    {
      "cell_type": "code",
      "source": [
        "plot,prediction = test_on_img('/content/test/00024.png')\n",
        "s = [str(i) for i in prediction]\n",
        "a = int(\"\".join(s))\n",
        "print(\"Predicted traffic sign is: \", classes[a])\n",
        "plt.imshow(plot)\n",
        "plt.show()"
      ],
      "metadata": {
        "colab": {
          "base_uri": "https://localhost:8080/",
          "height": 465
        },
        "id": "dV3qOmPS1Nit",
        "outputId": "0de09b54-f587-45a6-e554-c4b461d8c3ba"
      },
      "execution_count": 45,
      "outputs": [
        {
          "output_type": "stream",
          "name": "stdout",
          "text": [
            "1/1 [==============================] - 0s 26ms/step\n",
            "Predicted traffic sign is:  Speed limit (30km/h)\n"
          ]
        },
        {
          "output_type": "display_data",
          "data": {
            "text/plain": [
              "<Figure size 640x480 with 1 Axes>"
            ],
            "image/png": "[encoded data removed]"
          },
          "metadata": {}
        }
      ]
    },
    {
      "cell_type": "code",
      "source": [],
      "metadata": {
        "id": "WUXYJWb56tZQ"
      },
      "execution_count": null,
      "outputs": []
    }
  ]
}